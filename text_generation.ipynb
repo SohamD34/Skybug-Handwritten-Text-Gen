{
 "cells": [
  {
   "cell_type": "code",
   "execution_count": 1,
   "metadata": {},
   "outputs": [
    {
     "name": "stderr",
     "output_type": "stream",
     "text": [
      "c:\\Users\\Dell\\anaconda3\\envs\\myenv\\lib\\site-packages\\tqdm\\auto.py:21: TqdmWarning: IProgress not found. Please update jupyter and ipywidgets. See https://ipywidgets.readthedocs.io/en/stable/user_install.html\n",
      "  from .autonotebook import tqdm as notebook_tqdm\n"
     ]
    }
   ],
   "source": [
    "import numpy as np\n",
    "import pandas as pd\n",
    "import matplotlib.pyplot as plt\n",
    "import sklearn\n",
    "import torch\n",
    "import torch.nn as nn\n",
    "from torchvision import transforms,datasets,models\n",
    "from torch.nn import Module,Conv2d,MaxPool2d,Linear,Dropout,BatchNorm2d,ReLU,Sequential,Softmax\n",
    "from torch.utils.data import random_split,DataLoader,Dataset,DataLoader\n",
    "from torchvision import transforms,datasets,models\n",
    "from sklearn.model_selection import train_test_split\n",
    "from torch.optim import Adam\n",
    "import torch.utils.data as data\n",
    "from torch.nn import Embedding\n",
    "import PIL.Image as Image\n",
    "from warnings import filterwarnings\n",
    "filterwarnings('ignore')"
   ]
  },
  {
   "cell_type": "markdown",
   "metadata": {},
   "source": [
    "## Recurrent Text Generation"
   ]
  },
  {
   "cell_type": "markdown",
   "metadata": {},
   "source": [
    "### Data preparation"
   ]
  },
  {
   "cell_type": "code",
   "execution_count": 56,
   "metadata": {},
   "outputs": [
    {
     "name": "stdout",
     "output_type": "stream",
     "text": [
      "Total Characters:  561623\n",
      "Total Vocab:  62\n"
     ]
    }
   ],
   "source": [
    "filename = \"source.txt\"\n",
    "raw_text = open(filename, 'r', encoding='utf-8').read()\n",
    "raw_text = raw_text.lower()\n",
    " \n",
    "# create mapping of unique chars to integers\n",
    "chars = sorted(list(set(raw_text)))\n",
    "char_to_int = dict((c, i) for i, c in enumerate(chars))\n",
    " \n",
    "# summarize the loaded data\n",
    "n_chars = len(raw_text)\n",
    "n_vocab = len(chars)\n",
    "print(\"Total Characters: \", n_chars)\n",
    "print(\"Total Vocab: \", n_vocab)"
   ]
  },
  {
   "cell_type": "code",
   "execution_count": 57,
   "metadata": {},
   "outputs": [
    {
     "name": "stdout",
     "output_type": "stream",
     "text": [
      "Total Patterns:  561523\n"
     ]
    }
   ],
   "source": [
    "\n",
    "# prepare the dataset of input to output pairs encoded as integers\n",
    "seq_length = 100\n",
    "dataX = []\n",
    "dataY = []\n",
    "for i in range(0, n_chars - seq_length, 1):\n",
    "    seq_in = raw_text[i:i + seq_length]\n",
    "    seq_out = raw_text[i + seq_length]\n",
    "    dataX.append([char_to_int[char] for char in seq_in])\n",
    "    dataY.append(char_to_int[seq_out])\n",
    "n_patterns = len(dataX)\n",
    "print(\"Total Patterns: \", n_patterns)"
   ]
  },
  {
   "cell_type": "code",
   "execution_count": 58,
   "metadata": {},
   "outputs": [
    {
     "name": "stdout",
     "output_type": "stream",
     "text": [
      "torch.Size([561523, 100, 1]) torch.Size([561523])\n"
     ]
    }
   ],
   "source": [
    "import torch.nn as nn\n",
    "import torch.optim as optim\n",
    " \n",
    "# reshape X to be [samples, time steps, features]\n",
    "X = torch.tensor(dataX, dtype=torch.float32).reshape(n_patterns, seq_length, 1)\n",
    "X = X / float(n_vocab)\n",
    "y = torch.tensor(dataY)\n",
    "print(X.shape, y.shape)"
   ]
  },
  {
   "cell_type": "markdown",
   "metadata": {},
   "source": [
    "### Building model"
   ]
  },
  {
   "cell_type": "code",
   "execution_count": 59,
   "metadata": {},
   "outputs": [],
   "source": [
    "import torch.optim as optim\n",
    "import torch.utils.data as data\n",
    " \n",
    "class CharModel(nn.Module):\n",
    "    def __init__(self):\n",
    "        super().__init__()\n",
    "        self.lstm = nn.LSTM(input_size=1, hidden_size=256, num_layers=2, batch_first=True, dropout=0.2)\n",
    "        self.dropout = nn.Dropout(0.2)\n",
    "        self.linear = nn.Linear(256, n_vocab)\n",
    "    def forward(self, x):\n",
    "        x, _ = self.lstm(x)\n",
    "        # take only the last output\n",
    "        x = x[:, -1, :]\n",
    "        # produce output\n",
    "        x = self.linear(self.dropout(x))\n",
    "        return x"
   ]
  },
  {
   "cell_type": "code",
   "execution_count": 60,
   "metadata": {},
   "outputs": [
    {
     "name": "stdout",
     "output_type": "stream",
     "text": [
      "Epoch 0: Train loss: 339.8153\n",
      "Epoch 0: Cross-entropy: 1311734.1250\n",
      "Epoch 1: Cross-entropy: 1173947.8750\n",
      "Epoch 2: Cross-entropy: 1098901.8750\n",
      "Epoch 3: Cross-entropy: 1053770.2500\n",
      "Epoch 4: Cross-entropy: 1009041.0000\n",
      "Epoch 5: Cross-entropy: 983157.4375\n",
      "Epoch 6: Cross-entropy: 955215.8750\n",
      "Epoch 7: Cross-entropy: 935639.3125\n",
      "Epoch 8: Cross-entropy: 924778.7500\n",
      "Epoch 9: Cross-entropy: 902822.0000\n",
      "Epoch 10: Train loss: 223.4685\n",
      "Epoch 10: Cross-entropy: 889777.1250\n",
      "Epoch 11: Cross-entropy: 882066.1250\n",
      "Epoch 12: Cross-entropy: 868452.8750\n",
      "Epoch 13: Cross-entropy: 859928.4375\n",
      "Epoch 14: Cross-entropy: 852948.6875\n",
      "Epoch 15: Cross-entropy: 837642.4375\n",
      "Epoch 16: Cross-entropy: 832265.1875\n",
      "Epoch 17: Cross-entropy: 828881.7500\n",
      "Epoch 18: Cross-entropy: 816801.2500\n",
      "Epoch 19: Cross-entropy: 811982.5625\n",
      "Epoch 20: Train loss: 205.4930\n",
      "Epoch 20: Cross-entropy: 810383.5625\n",
      "Epoch 21: Cross-entropy: 801251.3125\n",
      "Epoch 22: Cross-entropy: 795949.6250\n",
      "Epoch 23: Cross-entropy: 792651.6875\n",
      "Epoch 24: Cross-entropy: 790028.2500\n",
      "Epoch 25: Cross-entropy: 787048.9375\n",
      "Epoch 26: Cross-entropy: 780452.7500\n",
      "Epoch 27: Cross-entropy: 775035.3125\n",
      "Epoch 28: Cross-entropy: 775800.1250\n",
      "Epoch 29: Cross-entropy: 769764.4375\n",
      "Epoch 30: Train loss: 196.7575\n",
      "Epoch 30: Cross-entropy: 768842.2500\n",
      "Epoch 31: Cross-entropy: 767391.5000\n",
      "Epoch 32: Cross-entropy: 766042.6250\n",
      "Epoch 33: Cross-entropy: 760116.8750\n",
      "Epoch 34: Cross-entropy: 755701.4375\n",
      "Epoch 35: Cross-entropy: 767204.4375\n",
      "Epoch 36: Cross-entropy: 751571.4375\n",
      "Epoch 37: Cross-entropy: 750959.1875\n",
      "Epoch 38: Cross-entropy: 745811.4375\n",
      "Epoch 39: Cross-entropy: 749230.3750\n",
      "Epoch 40: Train loss: 191.5492\n",
      "Epoch 40: Cross-entropy: 744701.8125\n",
      "Epoch 41: Cross-entropy: 742705.8750\n",
      "Epoch 42: Cross-entropy: 741324.6875\n",
      "Epoch 43: Cross-entropy: 736933.6875\n",
      "Epoch 44: Cross-entropy: 734718.5625\n",
      "Epoch 45: Cross-entropy: 739861.8750\n",
      "Epoch 46: Cross-entropy: 730167.7500\n",
      "Epoch 47: Cross-entropy: 733211.7500\n",
      "Epoch 48: Cross-entropy: 729919.1250\n",
      "Epoch 49: Cross-entropy: 728319.1250\n",
      "Epoch 50: Train loss: 187.6769\n",
      "Epoch 50: Cross-entropy: 725239.6250\n",
      "Epoch 51: Cross-entropy: 725469.8750\n",
      "Epoch 52: Cross-entropy: 721681.5625\n",
      "Epoch 53: Cross-entropy: 720464.3125\n",
      "Epoch 54: Cross-entropy: 722829.3125\n",
      "Epoch 55: Cross-entropy: 719113.6875\n",
      "Epoch 56: Cross-entropy: 724299.2500\n",
      "Epoch 57: Cross-entropy: 715224.8125\n",
      "Epoch 58: Cross-entropy: 717955.6250\n",
      "Epoch 59: Cross-entropy: 717073.1250\n",
      "Epoch 60: Train loss: 184.8386\n",
      "Epoch 60: Cross-entropy: 710787.2500\n",
      "Epoch 61: Cross-entropy: 707517.0000\n",
      "Epoch 62: Cross-entropy: 708601.6875\n",
      "Epoch 63: Cross-entropy: 707380.1250\n",
      "Epoch 64: Cross-entropy: 706109.3125\n",
      "Epoch 65: Cross-entropy: 707601.5625\n",
      "Epoch 66: Cross-entropy: 703300.6250\n",
      "Epoch 67: Cross-entropy: 703899.3125\n",
      "Epoch 68: Cross-entropy: 714661.5625\n",
      "Epoch 69: Cross-entropy: 702426.3750\n",
      "Epoch 70: Train loss: 182.8755\n",
      "Epoch 70: Cross-entropy: 704966.9375\n",
      "Epoch 71: Cross-entropy: 699300.3125\n",
      "Epoch 72: Cross-entropy: 700535.6250\n",
      "Epoch 73: Cross-entropy: 696415.7500\n",
      "Epoch 74: Cross-entropy: 699476.7500\n",
      "Epoch 75: Cross-entropy: 698967.0625\n",
      "Epoch 76: Cross-entropy: 700240.4375\n",
      "Epoch 77: Cross-entropy: 693646.5625\n",
      "Epoch 78: Cross-entropy: 691392.7500\n",
      "Epoch 79: Cross-entropy: 692903.8750\n",
      "Epoch 80: Train loss: 181.0747\n",
      "Epoch 80: Cross-entropy: 692308.6250\n",
      "Epoch 81: Cross-entropy: 690983.3125\n",
      "Epoch 82: Cross-entropy: 694379.0000\n",
      "Epoch 83: Cross-entropy: 695110.3750\n",
      "Epoch 84: Cross-entropy: 688363.9375\n",
      "Epoch 85: Cross-entropy: 689488.7500\n",
      "Epoch 86: Cross-entropy: 685668.9375\n",
      "Epoch 87: Cross-entropy: 684107.9375\n",
      "Epoch 88: Cross-entropy: 685204.6250\n",
      "Epoch 89: Cross-entropy: 690016.6875\n",
      "Epoch 90: Train loss: 179.5175\n",
      "Epoch 90: Cross-entropy: 683953.6250\n",
      "Epoch 91: Cross-entropy: 694868.3750\n",
      "Epoch 92: Cross-entropy: 681985.0000\n",
      "Epoch 93: Cross-entropy: 680692.3125\n",
      "Epoch 94: Cross-entropy: 679496.0625\n",
      "Epoch 95: Cross-entropy: 679524.0625\n",
      "Epoch 96: Cross-entropy: 680958.5625\n",
      "Epoch 97: Cross-entropy: 678960.2500\n",
      "Epoch 98: Cross-entropy: 675934.5000\n",
      "Epoch 99: Cross-entropy: 678346.3750\n"
     ]
    }
   ],
   "source": [
    "n_epochs = 100\n",
    "batch_size = 128\n",
    "model = CharModel()\n",
    "device = torch.device(\"cuda:0\" if torch.cuda.is_available() else \"cpu\")\n",
    "model.to(device)\n",
    " \n",
    "optimizer = optim.Adam(model.parameters())\n",
    "loss_fn = nn.CrossEntropyLoss(reduction=\"sum\")\n",
    "loader = data.DataLoader(data.TensorDataset(X, y), shuffle=True, batch_size=batch_size)\n",
    " \n",
    "best_model = None\n",
    "best_loss = np.inf\n",
    "\n",
    "for epoch in range(n_epochs):\n",
    "    model.train()\n",
    "    running_loss = 0\n",
    "    for X_batch, y_batch in loader:\n",
    "        y_pred = model(X_batch.to(device))\n",
    "        loss = loss_fn(y_pred, y_batch.to(device))\n",
    "        running_loss += loss.item()\n",
    "        optimizer.zero_grad()\n",
    "        loss.backward()\n",
    "        optimizer.step()\n",
    "    \n",
    "    if(epoch%10==0):\n",
    "        print(\"Epoch %d: Train loss: %.4f\" % (epoch, running_loss / len(loader)))\n",
    "\n",
    "    model.eval()\n",
    "    loss = 0\n",
    "    with torch.no_grad():\n",
    "        for X_batch, y_batch in loader:\n",
    "            y_pred = model(X_batch.to(device))\n",
    "            loss += loss_fn(y_pred, y_batch.to(device))\n",
    "        if loss < best_loss:\n",
    "            best_loss = loss\n",
    "            best_model = model.state_dict()\n",
    "        print(\"Epoch %d: Cross-entropy: %.4f\" % (epoch, loss))\n",
    " \n",
    "torch.save([best_model, char_to_int], \"single-char.pth\")"
   ]
  },
  {
   "cell_type": "code",
   "execution_count": 83,
   "metadata": {},
   "outputs": [
    {
     "name": "stdout",
     "output_type": "stream",
     "text": [
      "Prompt:\n",
      " \"my eyes tell me that on the inside of your left shoe, just where the firelight strikes it, the leather is scored by six almost parallel cuts. obviously they have been caused by someone who has very carelessly scraped round the edges of the sole in order to remove crusted mud from it. hence, you see, my double deduction that you had been out in vile weather, and that you had a particularly malignant boot-slitting specimen of the london slavey. as to your practice, if a gentleman walks into my rooms smelling of iodoform, with black mark of nitrate of silver upon his right forefinger, and a bulge on the right side of his top-hat to show where he has secreted his stethoscope, i must be dull, indeed, if i do not pronounce him to be an active member of the medical profession.\"\n",
      "\n",
      "Generated:\n",
      " i have no doubt that i \n",
      "Done.\n"
     ]
    }
   ],
   "source": [
    "best_model, char_to_int = torch.load(\"single-char.pth\")\n",
    "n_vocab = len(char_to_int)\n",
    "int_to_char = dict((i, c) for c, i in char_to_int.items())\n",
    "model.load_state_dict(best_model)\n",
    " \n",
    "# randomly generate a prompt\n",
    "filename = \"source.txt\"\n",
    "seq_length = 500\n",
    "\n",
    "prompt = \"my eyes tell me that on the inside of your left shoe, just where the firelight strikes it, the leather is scored by six almost parallel cuts. Obviously they have been caused by someone who has very carelessly scraped round the edges of the sole in order to remove crusted mud from it. Hence, you see, my double deduction that you had been out in vile weather, and that you had a particularly malignant boot-slitting specimen of the London slavey. As to your practice, if a gentleman walks into my rooms smelling of iodoform, with black mark of nitrate of silver upon his right forefinger, and a bulge on the right side of his top-hat to show where he has secreted his stethoscope, I must be dull, indeed, if I do not pronounce him to be an active member of the medical profession.\"\n",
    "prompt = prompt.lower()\n",
    "pattern = [char_to_int[c] for c in prompt]\n",
    " \n",
    "model.eval()\n",
    "print('Prompt:\\n \"%s\"' % prompt)\n",
    "\n",
    "generated = \"\"\n",
    "print(\"\\nGenerated:\")\n",
    "\n",
    "with torch.no_grad():\n",
    "    for i in range(24):\n",
    "        # format input array of int into PyTorch tensor\n",
    "        x = np.reshape(pattern, (1, len(pattern), 1)) / float(n_vocab)\n",
    "        x = torch.tensor(x, dtype=torch.float32)\n",
    "        # generate logits as output from the model\n",
    "        prediction = model(x.to(device))\n",
    "        # convert logits into one character\n",
    "        index = int(prediction.argmax())\n",
    "        result = int_to_char[index]\n",
    "        print(result, end=\"\")\n",
    "        generated += result\n",
    "        # append the new character into the prompt for the next iteration\n",
    "        pattern.append(index)\n",
    "print()\n",
    "print(\"Done.\")"
   ]
  },
  {
   "cell_type": "markdown",
   "metadata": {},
   "source": [
    "## Image generator"
   ]
  },
  {
   "cell_type": "code",
   "execution_count": 2,
   "metadata": {},
   "outputs": [],
   "source": [
    "# generated = \" i have no doubt that i \""
   ]
  },
  {
   "cell_type": "code",
   "execution_count": 3,
   "metadata": {},
   "outputs": [
    {
     "data": {
      "text/plain": [
       "['i have no doubt that', 'i']"
      ]
     },
     "execution_count": 3,
     "metadata": {},
     "output_type": "execute_result"
    }
   ],
   "source": [
    "def split_string_into_five_words(input_string):\n",
    "    words = input_string.split()\n",
    "    result_strings = []\n",
    "\n",
    "    for i in range(0, len(words), 5):\n",
    "        five_words = ' '.join(words[i:i+5])\n",
    "        result_strings.append(five_words)\n",
    "\n",
    "    return result_strings\n",
    "\n",
    "text = split_string_into_five_words(generated)\n",
    "text"
   ]
  },
  {
   "cell_type": "code",
   "execution_count": 5,
   "metadata": {},
   "outputs": [
    {
     "data": {
      "image/png": "[encoded data removed]",
      "text/plain": [
       "<Figure size 2000x200 with 40 Axes>"
      ]
     },
     "metadata": {},
     "output_type": "display_data"
    }
   ],
   "source": [
    "from image_generation import create_image\n",
    "img = create_image(text)"
   ]
  }
 ],
 "metadata": {
  "kernelspec": {
   "display_name": "dlenv",
   "language": "python",
   "name": "python3"
  },
  "language_info": {
   "codemirror_mode": {
    "name": "ipython",
    "version": 3
   },
   "file_extension": ".py",
   "mimetype": "text/x-python",
   "name": "python",
   "nbconvert_exporter": "python",
   "pygments_lexer": "ipython3",
   "version": "3.8.18"
  }
 },
 "nbformat": 4,
 "nbformat_minor": 2
}
